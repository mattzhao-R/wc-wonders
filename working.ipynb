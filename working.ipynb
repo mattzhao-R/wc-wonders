{
 "cells": [
  {
   "cell_type": "code",
   "execution_count": 1,
   "id": "454055ce-849b-4131-82d5-97bfe400a097",
   "metadata": {},
   "outputs": [],
   "source": [
    "import time\n",
    "import os\n",
    "\n",
    "import requests\n",
    "from selenium import webdriver\n",
    "from bs4 import BeautifulSoup\n",
    "from multiprocessing.pool import ThreadPool\n",
    "\n",
    "import pandas as pd\n",
    "import numpy as np"
   ]
  },
  {
   "cell_type": "markdown",
   "id": "fceffe21-6474-4597-8234-fce968af433a",
   "metadata": {},
   "source": [
    "## Transfer Data\n",
    "\n",
    "In this section, I work on developing a helper function to scrape the transfer history of a player given their name and unique ID from the website transfermarkt, using Brazilian shotstopper [Alisson](https://www.transfermarkt.us/alisson/marktwertverlauf/spieler/105470) as an example."
   ]
  },
  {
   "cell_type": "code",
   "execution_count": 2,
   "id": "cc897608-2244-4e15-a03c-21fbfbad9fe1",
   "metadata": {},
   "outputs": [],
   "source": [
    "ex = 'https://www.transfermarkt.us/alisson/marktwertverlauf/spieler/105470'"
   ]
  },
  {
   "cell_type": "code",
   "execution_count": 3,
   "id": "da9294dc-17fa-4d5b-9f74-dcd8743cb5d3",
   "metadata": {},
   "outputs": [],
   "source": [
    "base = 'https://www.transfermarkt.us/'\n",
    "fill = '/marktwertverlauf/spieler/'\n",
    "name = 'alisson'\n",
    "player_id = '105470'"
   ]
  },
  {
   "cell_type": "code",
   "execution_count": 43,
   "id": "cb60a483-9599-43d6-af89-957dfcf5ea26",
   "metadata": {},
   "outputs": [],
   "source": [
    "query = base + name + fill + player_id"
   ]
  },
  {
   "cell_type": "code",
   "execution_count": 19,
   "id": "f2ec5b03-9c11-4093-a9dc-5fe9a6b78dca",
   "metadata": {},
   "outputs": [
    {
     "data": {
      "text/plain": [
       "'https://www.transfermarkt.us/alisson/marktwertverlauf/spieler/105470'"
      ]
     },
     "execution_count": 19,
     "metadata": {},
     "output_type": "execute_result"
    }
   ],
   "source": [
    "query"
   ]
  },
  {
   "cell_type": "code",
   "execution_count": 68,
   "id": "e9646c8e-36a0-4a4f-ab2b-f98141149541",
   "metadata": {},
   "outputs": [],
   "source": [
    "#%%timeit -r 1 -n 1\n",
    "\n",
    "driver = webdriver.Chrome()\n",
    "driver.get(query)\n",
    "html = driver.page_source\n",
    "driver.close()\n",
    "sample = BeautifulSoup(html, 'html.parser') # 19.1 s"
   ]
  },
  {
   "cell_type": "code",
   "execution_count": 28,
   "id": "89e3f9d7-92e4-4ac0-b354-bfda2189ebb7",
   "metadata": {},
   "outputs": [
    {
     "data": {
      "text/plain": [
       "[<button aria-label=\"Close modal\" class=\"modal__close\" data-custom-close=\"\"></button>]"
      ]
     },
     "execution_count": 28,
     "metadata": {},
     "output_type": "execute_result"
    }
   ],
   "source": [
    "sample.find_all(name='button')"
   ]
  },
  {
   "cell_type": "code",
   "execution_count": 35,
   "id": "e6cd98d3-0df0-4be6-93b9-7b34688fa50b",
   "metadata": {},
   "outputs": [
    {
     "ename": "TimeoutException",
     "evalue": "Message: \n",
     "output_type": "error",
     "traceback": [
      "\u001b[1;31m---------------------------------------------------------------------------\u001b[0m",
      "\u001b[1;31mTimeoutException\u001b[0m                          Traceback (most recent call last)",
      "Cell \u001b[1;32mIn [35], line 20\u001b[0m\n\u001b[0;32m     14\u001b[0m \u001b[38;5;66;03m# https://stackoverflow.com/questions/59819502/movetargetoutofboundsexception-problem-with-chromedriver-version-74\u001b[39;00m\n\u001b[0;32m     15\u001b[0m \u001b[38;5;28;01mfor\u001b[39;00m img \u001b[38;5;129;01min\u001b[39;00m images:\n\u001b[0;32m     16\u001b[0m     \u001b[38;5;66;03m#a.scroll_to_element(img).move_to_element(img).perform()\u001b[39;00m\n\u001b[0;32m     17\u001b[0m     \u001b[38;5;66;03m#WebDriverWait(driver, 20).until(EC.visibility_of_element_located(img))\u001b[39;00m\n\u001b[0;32m     18\u001b[0m     \u001b[38;5;66;03m#WebDriverWait(driver, 20).until(EC.visibility_of_element_located((By.TAG_NAME,'image')))\u001b[39;00m\n\u001b[0;32m     19\u001b[0m     driver\u001b[38;5;241m.\u001b[39mexecute_script(\u001b[38;5;124m\"\u001b[39m\u001b[38;5;124marguments[0].scrollIntoView();\u001b[39m\u001b[38;5;124m\"\u001b[39m, \n\u001b[1;32m---> 20\u001b[0m                           \u001b[43mWebDriverWait\u001b[49m\u001b[43m(\u001b[49m\u001b[43mdriver\u001b[49m\u001b[43m,\u001b[49m\u001b[43m \u001b[49m\u001b[38;5;241;43m20\u001b[39;49m\u001b[43m)\u001b[49m\u001b[38;5;241;43m.\u001b[39;49m\u001b[43muntil\u001b[49m\u001b[43m(\u001b[49m\u001b[43mEC\u001b[49m\u001b[38;5;241;43m.\u001b[39;49m\u001b[43mvisibility_of_element_located\u001b[49m\u001b[43m(\u001b[49m\u001b[43m(\u001b[49m\u001b[43mBy\u001b[49m\u001b[38;5;241;43m.\u001b[39;49m\u001b[43mTAG_NAME\u001b[49m\u001b[43m,\u001b[49m\u001b[38;5;124;43m'\u001b[39;49m\u001b[38;5;124;43mimage\u001b[39;49m\u001b[38;5;124;43m'\u001b[39;49m\u001b[43m)\u001b[49m\u001b[43m)\u001b[49m\u001b[43m)\u001b[49m)\n\u001b[0;32m     21\u001b[0m     ActionChains(driver)\u001b[38;5;241m.\u001b[39mmove_to_element(WebDriverWait(driver, \u001b[38;5;241m20\u001b[39m)\u001b[38;5;241m.\u001b[39muntil(\n\u001b[0;32m     22\u001b[0m         EC\u001b[38;5;241m.\u001b[39mvisibility_of_element_located((By\u001b[38;5;241m.\u001b[39mTAG_NAME,\u001b[38;5;124m'\u001b[39m\u001b[38;5;124mimage\u001b[39m\u001b[38;5;124m'\u001b[39m))))\u001b[38;5;241m.\u001b[39mperform()\n\u001b[0;32m     24\u001b[0m     html \u001b[38;5;241m=\u001b[39m driver\u001b[38;5;241m.\u001b[39mpage_source\n",
      "File \u001b[1;32m~\\anaconda3\\envs\\proj_env\\lib\\site-packages\\selenium\\webdriver\\support\\wait.py:95\u001b[0m, in \u001b[0;36mWebDriverWait.until\u001b[1;34m(self, method, message)\u001b[0m\n\u001b[0;32m     93\u001b[0m     \u001b[38;5;28;01mif\u001b[39;00m time\u001b[38;5;241m.\u001b[39mmonotonic() \u001b[38;5;241m>\u001b[39m end_time:\n\u001b[0;32m     94\u001b[0m         \u001b[38;5;28;01mbreak\u001b[39;00m\n\u001b[1;32m---> 95\u001b[0m \u001b[38;5;28;01mraise\u001b[39;00m TimeoutException(message, screen, stacktrace)\n",
      "\u001b[1;31mTimeoutException\u001b[0m: Message: \n"
     ]
    }
   ],
   "source": [
    "from selenium.webdriver import ActionChains\n",
    "from selenium.webdriver.support.ui import WebDriverWait\n",
    "from selenium.webdriver.common.by import By\n",
    "from selenium.webdriver.support import expected_conditions as EC\n",
    "\n",
    "driver = webdriver.Chrome()\n",
    "driver.implicitly_wait(0.5)\n",
    "driver.get(query)\n",
    "\n",
    "a = ActionChains(driver)\n",
    "images = driver.find_elements(By.TAG_NAME,'image')\n",
    "entries = []\n",
    "\n",
    "# https://stackoverflow.com/questions/59819502/movetargetoutofboundsexception-problem-with-chromedriver-version-74\n",
    "for img in images:\n",
    "    #a.scroll_to_element(img).move_to_element(img).perform()\n",
    "    #WebDriverWait(driver, 20).until(EC.visibility_of_element_located(img))\n",
    "    #WebDriverWait(driver, 20).until(EC.visibility_of_element_located((By.TAG_NAME,'image')))\n",
    "    driver.execute_script(\"arguments[0].scrollIntoView();\", \n",
    "                          WebDriverWait(driver, 20).until(EC.visibility_of_element_located((By.TAG_NAME,'image'))))\n",
    "    ActionChains(driver).move_to_element(WebDriverWait(driver, 20).until(\n",
    "        EC.visibility_of_element_located((By.TAG_NAME,'image')))).perform()\n",
    "\n",
    "    html = driver.page_source\n",
    "    loaded = BeautifulSoup(html, 'html.parser')\n",
    "    popup = loaded.find(name='div', class_='highcharts-tooltip')\n",
    "    entries.append(popup.contents)\n",
    "\n",
    "driver.close()"
   ]
  },
  {
   "cell_type": "code",
   "execution_count": 71,
   "id": "ede22969-2b51-455e-b964-866ca2ddb835",
   "metadata": {
    "tags": []
   },
   "outputs": [
    {
     "name": "stdout",
     "output_type": "stream",
     "text": [
      "done\n"
     ]
    }
   ],
   "source": [
    "from selenium.webdriver import ActionChains\n",
    "from selenium.webdriver.support.ui import WebDriverWait\n",
    "from selenium.webdriver.common.by import By\n",
    "from selenium.webdriver.support import expected_conditions as EC\n",
    "\n",
    "# testing for iframe accepting privacy popup\n",
    "\n",
    "driver = webdriver.Chrome()\n",
    "driver.implicitly_wait(0.5)\n",
    "driver.get(query)\n",
    "\n",
    "wait = WebDriverWait(driver, 5)\n",
    "a = ActionChains(driver)\n",
    "\n",
    "driver.switch_to.frame(1)\n",
    "accept_button = driver.find_element(By.XPATH,'//*[@id=\"notice\"]/div[3]/div[2]/button')\n",
    "a.move_to_element(wait.until(EC.element_to_be_clickable(accept_button))).click().perform()\n",
    "\n",
    "driver.switch_to.default_content()\n",
    "# html = driver.page_source\n",
    "# loaded = BeautifulSoup(html, 'html.parser')\n",
    "# print(loaded.prettify())\n",
    "#driver.find_element(By.CLASS_NAME,'highcharts-axis-labels')\n",
    "\n",
    "# (By.XPATH,'//*[@id=\"highcharts-0\"]/svg/g[6]') #this XPATH doesn't work for some reason but class does?\n",
    "x_axis_emt = (By.CLASS_NAME,'highcharts-axis-labels') # when x axis is visible, all images should also be in viewport\n",
    "driver.execute_script(\"arguments[0].scrollIntoView();\",\n",
    "                      wait.until(EC.visibility_of_element_located(x_axis_emt)))\n",
    "\n",
    "images = driver.find_elements(By.TAG_NAME,'image')\n",
    "entries = []\n",
    "\n",
    "for img in images:\n",
    "    a.move_to_element(img).perform()\n",
    "    html = driver.page_source\n",
    "    loaded = BeautifulSoup(html, 'html.parser')\n",
    "    info = loaded.find(name='div', class_='highcharts-tooltip')\n",
    "    entries.append(info.contents)\n",
    "\n",
    "print('done')\n",
    "driver.close()"
   ]
  },
  {
   "cell_type": "code",
   "execution_count": 42,
   "id": "83087fc3-8eca-4852-9f56-d6109bb9d7dc",
   "metadata": {},
   "outputs": [],
   "source": [
    "# sample code demonstrating scrolling\n",
    "\n",
    "from selenium.webdriver import ActionChains\n",
    "from selenium.webdriver.support.ui import WebDriverWait\n",
    "from selenium.webdriver.common.by import By\n",
    "from selenium.webdriver.support import expected_conditions as EC\n",
    "\n",
    "driver = webdriver.Chrome()\n",
    "driver.implicitly_wait(0.5)\n",
    "driver.get('https://stackoverflow.com/questions/64553409/how-to-handle-google-privacy-popup-in-selenium-python')\n",
    "\n",
    "a = ActionChains(driver)\n",
    "elmt = (By.XPATH,'//*[@id=\"answer-64553696\"]/div/div[2]/div[2]/div/div[2]/div/div[1]/a')\n",
    "\n",
    "driver.execute_script(\"arguments[0].scrollIntoView();\", \n",
    "                      WebDriverWait(driver, 5).until(EC.visibility_of_element_located(elmt)))\n",
    "a.move_to_element(WebDriverWait(driver, 5).until(\n",
    "    EC.visibility_of_element_located(elmt))).perform()\n",
    "\n",
    "# html = driver.page_source\n",
    "# loaded = BeautifulSoup(html, 'html.parser')\n",
    "# popup = loaded.find(name='div', class_='highcharts-tooltip')\n",
    "# entries.append(popup.contents)\n",
    "\n",
    "driver.close()"
   ]
  },
  {
   "cell_type": "markdown",
   "id": "d1f36db6-9788-4639-a515-153e90d109d5",
   "metadata": {},
   "source": [
    "Notes\n",
    "\n",
    "- accept privacy now works\n",
    "- run get images using 'TAG_NAME' since that was issue before"
   ]
  },
  {
   "cell_type": "code",
   "execution_count": null,
   "id": "03a51a8a-b75e-4442-9d1b-01205f966e08",
   "metadata": {},
   "outputs": [],
   "source": []
  }
 ],
 "metadata": {
  "kernelspec": {
   "display_name": "Python [conda env:proj_env]",
   "language": "python",
   "name": "conda-env-proj_env-py"
  },
  "language_info": {
   "codemirror_mode": {
    "name": "ipython",
    "version": 3
   },
   "file_extension": ".py",
   "mimetype": "text/x-python",
   "name": "python",
   "nbconvert_exporter": "python",
   "pygments_lexer": "ipython3",
   "version": "3.10.8"
  }
 },
 "nbformat": 4,
 "nbformat_minor": 5
}
